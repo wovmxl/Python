{
 "cells": [
  {
   "cell_type": "markdown",
   "metadata": {},
   "source": [
    "# 라이브러리/ 변수선언"
   ]
  },
  {
   "cell_type": "code",
   "execution_count": 1,
   "metadata": {},
   "outputs": [
    {
     "name": "stdout",
     "output_type": "stream",
     "text": [
      "7\n"
     ]
    }
   ],
   "source": [
    "#시간계산 라이브러리 선언\n",
    "import datetime\n",
    "# now 변수에 현재시간 변수 담기\n",
    "now = datetime.datetime.now()\n",
    "#오늘날짜 변수담기 & 데이터 출력\n",
    "today = now.day\n",
    "print(today)"
   ]
  },
  {
   "cell_type": "code",
   "execution_count": 8,
   "metadata": {},
   "outputs": [
    {
     "name": "stdout",
     "output_type": "stream",
     "text": [
      "[1.  1.4 1.8 2.2 2.6 3.  3.4 3.8 4.2 4.6 5. ]\n"
     ]
    },
    {
     "data": {
      "text/plain": [
       "numpy.ndarray"
      ]
     },
     "execution_count": 8,
     "metadata": {},
     "output_type": "execute_result"
    }
   ],
   "source": [
    "#QUIZ: numpy library 와 numpy의 linspace를 활용하여 1,5 까지 11개의 숫자를 생성하세요\n",
    "import numpy as np\n",
    "a = np.linspace(1,5,11)\n",
    "print(a)\n",
    "type(a)"
   ]
  },
  {
   "cell_type": "code",
   "execution_count": 5,
   "metadata": {},
   "outputs": [],
   "source": [
    "import matplotlib.pyplot as plt\n",
    "import numpy as np\n",
    "%matplotlib inline"
   ]
  },
  {
   "cell_type": "code",
   "execution_count": 7,
   "metadata": {},
   "outputs": [
    {
     "name": "stdout",
     "output_type": "stream",
     "text": [
      "[1.  1.4 1.8 2.2 2.6 3.  3.4 3.8 4.2 4.6 5. ]\n",
      "[ 1.    1.96  3.24  4.84  6.76  9.   11.56 14.44 17.64 21.16 25.  ]\n",
      "<class 'numpy.ndarray'>\n"
     ]
    },
    {
     "data": {
      "image/png": "[encoded data removed]",
      "text/plain": [
       "<matplotlib.figure.Figure at 0xafc9518>"
      ]
     },
     "metadata": {},
     "output_type": "display_data"
    }
   ],
   "source": [
    "b = a**2\n",
    "plt.plot(a,b)\n",
    "print(a)\n",
    "print(b)\n",
    "print(type(a))"
   ]
  },
  {
   "cell_type": "markdown",
   "metadata": {},
   "source": [
    "# 조건문"
   ]
  },
  {
   "cell_type": "code",
   "execution_count": 9,
   "metadata": {},
   "outputs": [
    {
     "name": "stdout",
     "output_type": "stream",
     "text": [
      "True\n"
     ]
    }
   ],
   "source": [
    "#변수에 특정 값 할당\n",
    "stockName = \"SEA\"\n",
    "#조건식 수행 일치시 실행\n",
    "if stockName == \"SEC\":\n",
    "    print(\"Union\")\n",
    "elif stockName == \"SEA\":\n",
    "    print(\"True\")\n",
    "else: \n",
    "    print(\"False\")"
   ]
  },
  {
   "cell_type": "code",
   "execution_count": 14,
   "metadata": {},
   "outputs": [
    {
     "name": "stdout",
     "output_type": "stream",
     "text": [
      "B\n"
     ]
    }
   ],
   "source": [
    "score = 80\n",
    "if score >= 90:\n",
    "    print(\"A\")\n",
    "elif score >=80:\n",
    "# elif 80<= score <90:\n",
    "    print(\"B\")\n",
    "else:\n",
    "    print(\"C\")"
   ]
  },
  {
   "cell_type": "markdown",
   "metadata": {},
   "source": [
    "# 반복문"
   ]
  },
  {
   "cell_type": "code",
   "execution_count": 2,
   "metadata": {},
   "outputs": [
    {
     "name": "stdout",
     "output_type": "stream",
     "text": [
      "1\n",
      "2\n",
      "3\n",
      "4\n",
      "5\n",
      "6\n",
      "7\n",
      "8\n",
      "9\n",
      "10\n",
      "1번문제 끝!\n",
      "1\n",
      "2\n",
      "3\n",
      "4\n",
      "5\n",
      "6\n",
      "7\n",
      "8\n",
      "9\n",
      "10\n",
      "2번문제 끝!!\n"
     ]
    }
   ],
   "source": [
    "# while문은 변수가 우측의 조건식을 만족하는 동안 계속 연산하게됨\n",
    "i=1\n",
    "while i <= 10:\n",
    "    print(i)\n",
    "    i=i+1;\n",
    "print(\"1번문제 끝!\")\n",
    "# for문은 변수가 특정 조건기간동안 연산하게됨\n",
    "for i in range(1,11):\n",
    "    print(i)\n",
    "print(\"2번문제 끝!!\")"
   ]
  },
  {
   "cell_type": "code",
   "execution_count": 30,
   "metadata": {},
   "outputs": [
    {
     "name": "stdout",
     "output_type": "stream",
     "text": [
      "1단 시작\n",
      "1*1=1\n",
      "1*2=2\n",
      "1*3=3\n",
      "1*4=4\n",
      "1*5=5\n",
      "1*6=6\n",
      "1*7=7\n",
      "1*8=8\n",
      "1*9=9\n",
      "2단 시작\n",
      "2*1=2\n",
      "2*2=4\n",
      "2*3=6\n",
      "2*4=8\n",
      "2*5=10\n",
      "2*6=12\n",
      "2*7=14\n",
      "2*8=16\n",
      "2*9=18\n"
     ]
    }
   ],
   "source": [
    "# 2중 for문\n",
    "for a in [1,2]:\n",
    "# for a in range(2,10,1):\n",
    "    print(\"{0}단 시작\".format(a))\n",
    "    for i in[1,2,3,4,5,6,7,8,9]:\n",
    "        print(\"{0}*{1}={2}\".format(a,i,a*i))"
   ]
  },
  {
   "cell_type": "code",
   "execution_count": 33,
   "metadata": {},
   "outputs": [
    {
     "name": "stdout",
     "output_type": "stream",
     "text": [
      "1단 시작\n",
      "1*1=1\n",
      "1*2=2\n",
      "1*3=3\n",
      "1*4=4\n",
      "1*5=5\n",
      "2단 시작\n",
      "2*1=2\n",
      "2*2=4\n",
      "2*3=6\n",
      "2*4=8\n",
      "2*5=10\n"
     ]
    }
   ],
   "source": [
    "for a in [1,2]:\n",
    "    print(\"{0}단 시작\".format(a))\n",
    "    for i in[1,2,3,4,5,6,7,8,9]:\n",
    "        if i > 5:\n",
    "            break\n",
    "        print(\"{0}*{1}={2}\".format(a,i,a*i))"
   ]
  },
  {
   "cell_type": "code",
   "execution_count": 3,
   "metadata": {},
   "outputs": [
    {
     "name": "stdout",
     "output_type": "stream",
     "text": [
      "1단 시작\n",
      "1*1=1\n",
      "1*2=2\n",
      "1*3=3\n",
      "1*4=4\n",
      "1*5=5\n",
      "1*6=6\n",
      "1*7=7\n",
      "1*8=8\n",
      "1*9=9\n"
     ]
    }
   ],
   "source": [
    "for a in [1,2]:\n",
    "# for a in [1,2,3,4,5,6,7]:\n",
    "    if (a%2 == 0):\n",
    "            continue\n",
    "    print(\"{0}단 시작\".format(a))\n",
    "    for i in[1,2,3,4,5,6,7,8,9]:\n",
    "        print(\"{0}*{1}={2}\".format(a,i,a*i))"
   ]
  },
  {
   "cell_type": "code",
   "execution_count": 14,
   "metadata": {},
   "outputs": [
    {
     "name": "stdout",
     "output_type": "stream",
     "text": [
      "{'A01': '한국', 'A02': '미국', 'A03': '인도'}\n",
      "A01\n",
      "A02\n",
      "A03\n",
      "한국\n",
      "미국\n",
      "인도\n",
      "A01 한국\n",
      "A02 미국\n",
      "A03 인도\n"
     ]
    }
   ],
   "source": [
    "#딕션너리 활용\n",
    "coordinate = {'A01':\"한국\",'A02':\"미국\",'A03':\"인도\"}\n",
    "for a in [dic]:\n",
    "    print(a)\n",
    "# 키값만 가져오기\n",
    "for key in coordinate.keys():\n",
    "    print(key)\n",
    "# 값만 가져오기\n",
    "for value in coordinate.values():\n",
    "    print(value)\n",
    "# 모든 값 가져오기\n",
    "for key, value in coordinate.items():\n",
    "    print(key, value)"
   ]
  },
  {
   "cell_type": "markdown",
   "metadata": {},
   "source": [
    "# 자주 사용하는 내용 함수화 하기"
   ]
  },
  {
   "cell_type": "code",
   "execution_count": 15,
   "metadata": {},
   "outputs": [
    {
     "name": "stdout",
     "output_type": "stream",
     "text": [
      "5\n",
      "20\n"
     ]
    }
   ],
   "source": [
    "# 더하기 함수\n",
    "def add(x=10,y=10):\n",
    "    return x + y\n",
    "a=3\n",
    "b=2 \n",
    "answer = add(a,b)\n",
    "print(answer)\n",
    "answerDefault = add()\n",
    "print(answerDefault)"
   ]
  },
  {
   "cell_type": "code",
   "execution_count": null,
   "metadata": {},
   "outputs": [],
   "source": [
    "(lambda x,y:x*y)(4,3)"
   ]
  },
  {
   "cell_type": "code",
   "execution_count": null,
   "metadata": {},
   "outputs": [],
   "source": [
    "#사용자 입력변수 받기\n",
    "name = input(\"이름을 입력하세요: \")\n",
    "print(name)"
   ]
  },
  {
   "cell_type": "code",
   "execution_count": 1,
   "metadata": {
    "scrolled": true
   },
   "outputs": [
    {
     "name": "stdout",
     "output_type": "stream",
     "text": [
      "X값을 입력하세요: 12\n",
      "Y값을 입력하세요: 21\n",
      "33\n",
      "252\n"
     ]
    }
   ],
   "source": [
    "#QUIZ: 사칙연산을 할 수 있는 함수를 생성한 후 사용자의 변수를 2개 inputX, inputY를 입력받아\n",
    "# print문을 활용하여 더하기 예제를 출력하세요\n",
    "inputX = int(input(\"X값을 입력하세요: \"))\n",
    "inputY = int(input(\"Y값을 입력하세요: \"))\n",
    "def add(x,y):\n",
    "    return x + y\n",
    "def subtract(x,y):\n",
    "    return x - y\n",
    "def multiply(x,y):\n",
    "    return x*y\n",
    "def division(x,y):\n",
    "    return x/y\n",
    "\n",
    "answer = add(inputX,inputY)\n",
    "print(answer)\n",
    "print(multiply(inputX,inputY))\n"
   ]
  }
 ],
 "metadata": {
  "kernelspec": {
   "display_name": "Python 3",
   "language": "python",
   "name": "python3"
  },
  "language_info": {
   "codemirror_mode": {
    "name": "ipython",
    "version": 3
   },
   "file_extension": ".py",
   "mimetype": "text/x-python",
   "name": "python",
   "nbconvert_exporter": "python",
   "pygments_lexer": "ipython3",
   "version": "3.7.1"
  },
  "varInspector": {
   "cols": {
    "lenName": 16,
    "lenType": 16,
    "lenVar": 40
   },
   "kernels_config": {
    "python": {
     "delete_cmd_postfix": "",
     "delete_cmd_prefix": "del ",
     "library": "var_list.py",
     "varRefreshCmd": "print(var_dic_list())"
    },
    "r": {
     "delete_cmd_postfix": ") ",
     "delete_cmd_prefix": "rm(",
     "library": "var_list.r",
     "varRefreshCmd": "cat(var_dic_list()) "
    }
   },
   "types_to_exclude": [
    "module",
    "function",
    "builtin_function_or_method",
    "instance",
    "_Feature"
   ],
   "window_display": false
  }
 },
 "nbformat": 4,
 "nbformat_minor": 2
}
